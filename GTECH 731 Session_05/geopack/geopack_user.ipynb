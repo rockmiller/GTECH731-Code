{
 "cells": [
  {
   "cell_type": "code",
   "execution_count": 13,
   "metadata": {},
   "outputs": [
    {
     "ename": "NameError",
     "evalue": "name 'impo' is not defined",
     "output_type": "error",
     "traceback": [
      "\u001b[1;31m---------------------------------------------------------------------------\u001b[0m",
      "\u001b[1;31mNameError\u001b[0m                                 Traceback (most recent call last)",
      "Cell \u001b[1;32mIn[13], line 3\u001b[0m\n\u001b[0;32m      1\u001b[0m \u001b[39mimport\u001b[39;00m \u001b[39mgeom\u001b[39;00m\u001b[39m,\u001b[39m \u001b[39mcircle\u001b[39;00m\u001b[39m,\u001b[39m \u001b[39msquare\u001b[39;00m\u001b[39m,\u001b[39m \u001b[39mtriangle\u001b[39;00m\n\u001b[1;32m----> 3\u001b[0m impo\n\u001b[0;32m      4\u001b[0m \u001b[39mprint\u001b[39m(\u001b[39m'\u001b[39m\u001b[39m\\n\u001b[39;00m\u001b[39mCircles\u001b[39m\u001b[39m\\n\u001b[39;00m\u001b[39m'\u001b[39m)\n\u001b[0;32m      6\u001b[0m \u001b[39mfor\u001b[39;00m x \u001b[39min\u001b[39;00m [circle\u001b[39m.\u001b[39mCircle(i) \u001b[39mfor\u001b[39;00m i \u001b[39min\u001b[39;00m \u001b[39mrange\u001b[39m(\u001b[39m2\u001b[39m,\u001b[39m4\u001b[39m)]:\n\u001b[0;32m      7\u001b[0m     \u001b[39m#x.print_name()\u001b[39;00m\n",
      "\u001b[1;31mNameError\u001b[0m: name 'impo' is not defined"
     ]
    }
   ],
   "source": [
    "import geom, circle, square, triangle\n",
    "\n",
    "print('\\nCircles\\n')\n",
    "\n",
    "for x in [circle.Circle(i) for i in range(2,4)]:\n",
    "    #x.print_name()\n",
    "    print(x.makeString())\n",
    "\n",
    "print('\\nSquares\\n')\n",
    "\n",
    "for x in [square.Square(i) for i in range(2,4)]:\n",
    "    #x.print_name()\n",
    "    print(x.makeString())\n",
    "\n",
    "print('\\nTriangles\\n')\n",
    "\n",
    "for x in [triangle.Triangle(i,j) for j in range(6,8) for i in range(3,5)]:\n",
    "    #x.print.name()\n",
    "    print(x.makeString())\n",
    "\n",
    "\n",
    "\n",
    "#why doesn't 'print_name' method get inherited?"
   ]
  }
 ],
 "metadata": {
  "kernelspec": {
   "display_name": "Python 3",
   "language": "python",
   "name": "python3"
  },
  "language_info": {
   "codemirror_mode": {
    "name": "ipython",
    "version": 3
   },
   "file_extension": ".py",
   "mimetype": "text/x-python",
   "name": "python",
   "nbconvert_exporter": "python",
   "pygments_lexer": "ipython3",
   "version": "3.11.1"
  },
  "orig_nbformat": 4,
  "vscode": {
   "interpreter": {
    "hash": "627c4ba8fc3d22e57d5199a184a5e33ac9790d76015aa65898aa78c0d41a3f4a"
   }
  }
 },
 "nbformat": 4,
 "nbformat_minor": 2
}
