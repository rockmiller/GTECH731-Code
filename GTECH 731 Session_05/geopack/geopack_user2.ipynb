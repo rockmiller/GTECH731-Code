{
 "cells": [
  {
   "cell_type": "code",
   "execution_count": 1,
   "metadata": {},
   "outputs": [
    {
     "name": "stdout",
     "output_type": "stream",
     "text": [
      "\n",
      "Circles\n",
      "\n",
      "My name is Hussain , a circle , and my color is RED\n",
      "Name: Hussain, Type: circle, Color: RED, Area: 12.566370614359172\n",
      "My name is Tamica , a circle , and my color is PURPLE\n",
      "Name: Tamica, Type: circle, Color: PURPLE, Area: 28.274333882308138\n",
      "\n",
      "Squares\n",
      "\n",
      "My name is Josh , a square , and my color is PURPLE\n",
      "Name: Josh, Type: square, Color: PURPLE, Area: 4\n",
      "My name is Lammar , a square , and my color is RED\n",
      "Name: Lammar, Type: square, Color: RED, Area: 9\n",
      "\n",
      "Triangles\n",
      "\n",
      "My name is Hussain , a triangle , and my color is PURPLE\n",
      "Name: Hussain, Type: triangle, Color: PURPLE, Area: 9.0\n",
      "My name is Josh , a triangle , and my color is BLUE\n",
      "Name: Josh, Type: triangle, Color: BLUE, Area: 12.0\n",
      "My name is Josh , a triangle , and my color is RED\n",
      "Name: Josh, Type: triangle, Color: RED, Area: 10.5\n",
      "My name is Hussain , a triangle , and my color is BLUE\n",
      "Name: Hussain, Type: triangle, Color: BLUE, Area: 14.0\n"
     ]
    }
   ],
   "source": [
    "import geom, circle, square, triangle\n",
    "\n",
    "print('\\nCircles\\n')\n",
    "\n",
    "for x in [circle.Circle(i) for i in range(2,4)]:\n",
    "    x.print_name()\n",
    "    print(x.makeString())\n",
    "\n",
    "print('\\nSquares\\n')\n",
    "\n",
    "for x in [square.Square(i) for i in range(2,4)]:\n",
    "    x.print_name()\n",
    "    print(x.makeString())\n",
    "\n",
    "print('\\nTriangles\\n')\n",
    "\n",
    "for x in [triangle.Triangle(i,j) for j in range(6,8) for i in range(3,5)]:\n",
    "    x.print_name()\n",
    "    print(x.makeString())\n",
    "\n",
    "\n",
    "\n",
    "#why doesn't 'print_name' method get inherited?"
   ]
  }
 ],
 "metadata": {
  "kernelspec": {
   "display_name": "Python 3",
   "language": "python",
   "name": "python3"
  },
  "language_info": {
   "codemirror_mode": {
    "name": "ipython",
    "version": 3
   },
   "file_extension": ".py",
   "mimetype": "text/x-python",
   "name": "python",
   "nbconvert_exporter": "python",
   "pygments_lexer": "ipython3",
   "version": "3.11.1"
  },
  "orig_nbformat": 4,
  "vscode": {
   "interpreter": {
    "hash": "627c4ba8fc3d22e57d5199a184a5e33ac9790d76015aa65898aa78c0d41a3f4a"
   }
  }
 },
 "nbformat": 4,
 "nbformat_minor": 2
}
