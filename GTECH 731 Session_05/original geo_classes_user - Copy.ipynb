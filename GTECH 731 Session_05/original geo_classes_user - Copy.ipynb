{
 "cells": [
  {
   "cell_type": "code",
   "execution_count": 2,
   "metadata": {},
   "outputs": [
    {
     "name": "stdout",
     "output_type": "stream",
     "text": [
      "My name is Lammar , a circle , and my color is BLUE\n",
      "Name: Lammar, Type: circle, Color: BLUE, Area: 12.566370614359172\n",
      "Name: Lammar, Type: circle, Color: BLUE, Area: 12.566370614359172\n",
      "My name is Lammar , a circle , and my color is RED\n",
      "Name: Lammar, Type: circle, Color: RED, Area: 28.274333882308138\n",
      "Name: Lammar, Type: circle, Color: RED, Area: 28.274333882308138\n",
      "My name is Lammar , a square , and my color is RED\n",
      "Name: Lammar, Type: square, Color: RED, Area: 4\n",
      "Name: Lammar, Type: square, Color: RED, Area: 4\n",
      "My name is Josh , a square , and my color is PURPLE\n",
      "Name: Josh, Type: square, Color: PURPLE, Area: 9\n",
      "Name: Josh, Type: square, Color: PURPLE, Area: 9\n"
     ]
    }
   ],
   "source": [
    "# Import modules (from packages)\n",
    "# A module can contain class, methods, variables, etc.\n",
    "# from geom_classes import geom_op, geom, circle\n",
    "from geom_classes import *\n",
    "#import geom_classes\n",
    "\n",
    "for x in [circle.Circle(i) for i in range(2,4)]:\n",
    "    x.print_name()\n",
    "    print(x.makeString())\n",
    "    geom_op.print_geom(x) \n",
    "    geom_op.enlarge_geom(x)\n",
    "\n",
    "for x in [geom.Square(i) for i in range(2,4)]:\n",
    "    x.print_name()\n",
    "    print(x.makeString())\n",
    "    geom_op.print_geom(x) \n",
    "    geom_op.enlarge_geom(x)"
   ]
  }
 ],
 "metadata": {
  "kernelspec": {
   "display_name": "Python 3",
   "language": "python",
   "name": "python3"
  },
  "language_info": {
   "codemirror_mode": {
    "name": "ipython",
    "version": 3
   },
   "file_extension": ".py",
   "mimetype": "text/x-python",
   "name": "python",
   "nbconvert_exporter": "python",
   "pygments_lexer": "ipython3",
   "version": "3.11.1"
  },
  "orig_nbformat": 4,
  "vscode": {
   "interpreter": {
    "hash": "627c4ba8fc3d22e57d5199a184a5e33ac9790d76015aa65898aa78c0d41a3f4a"
   }
  }
 },
 "nbformat": 4,
 "nbformat_minor": 2
}
