{
 "cells": [
  {
   "cell_type": "code",
   "execution_count": 1,
   "metadata": {},
   "outputs": [
    {
     "name": "stdout",
     "output_type": "stream",
     "text": [
      "\n",
      "\n",
      "instantiate a square with a fixed side length\n",
      "My name is Lammar , a square , and my color is RED\n",
      "Name: Lammar, Type: square, Color: RED, Area: 64\n",
      "\n",
      "\n",
      "instantiate a list of circles\n",
      "\n",
      " [<geom.Circle object at 0x0000012FB97AB210>, <geom.Circle object at 0x0000012FB8273310>] \n",
      "\n",
      "\n",
      "\n",
      "<geom.Circle object at 0x0000012FB97AB210>\n",
      "My name is Josh , a circle , and my color is RED\n",
      "<geom.Circle object at 0x0000012FB8273310>\n",
      "My name is Hussain , a circle , and my color is BLUE\n",
      "['Name: Josh, Type: circle, Color: RED, Area: 12.566370614359172', 'Name: Hussain, Type: circle, Color: BLUE, Area: 28.274333882308138']\n",
      "\n",
      "\n",
      "instantiate and print circles with a range of radii\n",
      "My name is Sally , a circle , and my color is PURPLE\n",
      "Name: Sally, Type: circle, Color: PURPLE, Area: 201.06192982974676\n",
      "My name is Tamica , a circle , and my color is PURPLE\n",
      "Name: Tamica, Type: circle, Color: PURPLE, Area: 254.46900494077323\n",
      "\n",
      "\n",
      "instantiate and print squares with a range of side lengths\n",
      "\n",
      "\n",
      "My name is Lammar , a square , and my color is RED\n",
      "Name: Lammar, Type: square, Color: RED, Area: 4\n",
      "My name is Bill , a square , and my color is BLUE\n",
      "Name: Bill, Type: square, Color: BLUE, Area: 9\n",
      "My name is Lammar , a square , and my color is PURPLE\n",
      "Name: Lammar, Type: square, Color: PURPLE, Area: 16\n",
      "\n",
      "\n",
      "instantiate and print triangles with a range of heights and base lengths\n",
      "\n",
      "\n",
      "Name: Bill, Type: triangle, Color: RED, Area: 9.0\n",
      "Name: Josh, Type: triangle, Color: RED, Area: 12.0\n",
      "Name: Bill, Type: triangle, Color: PURPLE, Area: 10.5\n",
      "Name: Hussain, Type: triangle, Color: PURPLE, Area: 14.0\n",
      "\n",
      "\n"
     ]
    }
   ],
   "source": [
    "# Import modules (from packages)\n",
    "# A module can contain class, methods, variables, etc.\n",
    "#from geom_classes import geom_op, geom\n",
    "from geom import *\n",
    "\n",
    "print('\\n')\n",
    "print('instantiate a square with a fixed side length')\n",
    "for x in [Square(i) for i in range(8,9)]:\n",
    "    x.print_name()\n",
    "    print(x.makeString())\n",
    "\n",
    "print('\\n')\n",
    "print('instantiate a list of circles')\n",
    "circle_list = [Circle(i) for i in range(2,4)]\n",
    "print('\\n',circle_list,'\\n')\n",
    "print('\\n')\n",
    "for x in circle_list:\n",
    "    print(x)\n",
    "    x.print_name()\n",
    "print ([x.makeString() for x in circle_list])\n",
    "print('\\n')\n",
    "\n",
    "print('instantiate and print circles with a range of radii')\n",
    "for x in [Circle(i) for i in range(8,10)]:\n",
    "    x.print_name()\n",
    "    print(x.makeString())\n",
    "print('\\n')\n",
    "\n",
    "print('instantiate and print squares with a range of side lengths')\n",
    "print('\\n')\n",
    "\n",
    "for x in [Square(i) for i in range(2,5)]:\n",
    "    x.print_name()\n",
    "    print(x.makeString())\n",
    "print('\\n')\n",
    "\n",
    "print('instantiate and print triangles with a range of heights and base lengths')\n",
    "print('\\n')\n",
    "\n",
    "for x in [Triangle(i,j) for j in range(6,8) for i in range(3,5)]:\n",
    "    #x.print.name() # why isn't it detecting the name method in geom for triangles only?\n",
    "    print(x.makeString())\n",
    "print('\\n')\n",
    "\n",
    "#why doesn't 'print_name' method get inherited for Triangle in geom?\n",
    "#what is '__pycache__' which seems to be all binaries for individual modules?"
   ]
  },
  {
   "cell_type": "code",
   "execution_count": null,
   "metadata": {},
   "outputs": [],
   "source": []
  }
 ],
 "metadata": {
  "kernelspec": {
   "display_name": "Python 3",
   "language": "python",
   "name": "python3"
  },
  "language_info": {
   "codemirror_mode": {
    "name": "ipython",
    "version": 3
   },
   "file_extension": ".py",
   "mimetype": "text/x-python",
   "name": "python",
   "nbconvert_exporter": "python",
   "pygments_lexer": "ipython3",
   "version": "3.11.1"
  },
  "orig_nbformat": 4,
  "vscode": {
   "interpreter": {
    "hash": "627c4ba8fc3d22e57d5199a184a5e33ac9790d76015aa65898aa78c0d41a3f4a"
   }
  }
 },
 "nbformat": 4,
 "nbformat_minor": 2
}
