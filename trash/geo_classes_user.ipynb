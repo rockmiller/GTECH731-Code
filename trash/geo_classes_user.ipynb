{
 "cells": [
  {
   "cell_type": "code",
   "execution_count": 16,
   "metadata": {},
   "outputs": [
    {
     "name": "stdout",
     "output_type": "stream",
     "text": [
      "My name is Bill , a circle , and my color is BLUE\n",
      "Name: Bill, Type: circle, Color: BLUE, Area: 12.566370614359172\n",
      "Name: Bill, Type: circle, Color: BLUE, Area: 12.566370614359172\n",
      "My name is Hussain , a circle , and my color is PURPLE\n",
      "Name: Hussain, Type: circle, Color: PURPLE, Area: 28.274333882308138\n",
      "Name: Hussain, Type: circle, Color: PURPLE, Area: 28.274333882308138\n",
      "My name is Josh , a square , and my color is BLUE\n",
      "Name: Josh, Type: square, Color: BLUE, Area: 4\n",
      "Name: Josh, Type: square, Color: BLUE, Area: 4\n",
      "My name is Josh , a square , and my color is BLUE\n",
      "Name: Josh, Type: square, Color: BLUE, Area: 9\n",
      "Name: Josh, Type: square, Color: BLUE, Area: 9\n",
      "\n",
      " triangles next - from class in geom superclass \n",
      "\n",
      "Name: Bill, Type: triangle, Color: BLUE, Area: 9.0\n",
      "Name: Bill, Type: triangle, Color: BLUE, Area: 9.0\n",
      "Name: Tamica, Type: triangle, Color: BLUE, Area: 12.0\n",
      "Name: Tamica, Type: triangle, Color: BLUE, Area: 12.0\n",
      "Name: Lammar, Type: triangle, Color: RED, Area: 10.5\n",
      "Name: Lammar, Type: triangle, Color: RED, Area: 10.5\n",
      "Name: Josh, Type: triangle, Color: BLUE, Area: 14.0\n",
      "Name: Josh, Type: triangle, Color: BLUE, Area: 14.0\n",
      "\n",
      "next one\n",
      "\n",
      "Name: Bill, Type: triangle, Color: PURPLE, Area: 20.0\n",
      "Name: Bill, Type: triangle, Color: PURPLE, Area: 20.0\n",
      "Name: Lammar, Type: triangle, Color: BLUE, Area: 30.0\n",
      "Name: Lammar, Type: triangle, Color: BLUE, Area: 30.0\n"
     ]
    }
   ],
   "source": [
    "# Import modules (from packages)\n",
    "# A module can contain class, methods, variables, etc.\n",
    "#from geom_classes import geom_op, geom, circle, xtriangle\n",
    "from geom_classes import *\n",
    "#import geom_classes\n",
    "\n",
    "for x in [circle.Circle(i) for i in range(2,4)]:\n",
    "    x.print_name()\n",
    "    print(x.makeString())\n",
    "    geom_op.print_geom(x) \n",
    "    geom_op.enlarge_geom(x)\n",
    "\n",
    "for x in [geom.Square(i) for i in range(2,4)]:\n",
    "    x.print_name()\n",
    "    print(x.makeString())\n",
    "    geom_op.print_geom(x) \n",
    "    geom_op.enlarge_geom(x)\n",
    "\n",
    "print('\\ntriangles next - from class in geom superclass \\n')\n",
    "\n",
    "for x in [geom.Triangle(i,j) for j in range(6,8) for i in range(3,5)]:\n",
    "    #x.print.name()\n",
    "    print(x.makeString())\n",
    "    geom_op.print_geom(x) \n",
    "    geom_op.enlarge_geom(x)\n",
    "\n",
    "print('\\nnext one\\n')\n",
    "\n",
    "for x in [xtriangle.Triangle_2(i,j) for j in range(20,21) for i in range(2,4)]:\n",
    "#for x in [xtriangle.Triangle_2(i,5.5) for i in range(2,4)]: # fixed height of 5.5\n",
    "    #x.print.name()\n",
    "    print(x.makeString())\n",
    "    geom_op.print_geom(x) \n",
    "    geom_op.enlarge_geom(x)\n",
    "\n",
    "#why is it printing everything twice?\n",
    "#why doesn't 'print_name' method get inherited for Triangle or Triangle_2?"
   ]
  }
 ],
 "metadata": {
  "kernelspec": {
   "display_name": "Python 3",
   "language": "python",
   "name": "python3"
  },
  "language_info": {
   "codemirror_mode": {
    "name": "ipython",
    "version": 3
   },
   "file_extension": ".py",
   "mimetype": "text/x-python",
   "name": "python",
   "nbconvert_exporter": "python",
   "pygments_lexer": "ipython3",
   "version": "3.11.1"
  },
  "orig_nbformat": 4,
  "vscode": {
   "interpreter": {
    "hash": "627c4ba8fc3d22e57d5199a184a5e33ac9790d76015aa65898aa78c0d41a3f4a"
   }
  }
 },
 "nbformat": 4,
 "nbformat_minor": 2
}
